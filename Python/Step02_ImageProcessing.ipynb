{
 "cells": [
  {
   "cell_type": "markdown",
   "metadata": {},
   "source": [
    "## Step02_ImageProcessing\n",
    "\n",
    "画像の読み込み→輝度値を変更→保存"
   ]
  },
  {
   "cell_type": "code",
   "execution_count": null,
   "metadata": {},
   "outputs": [],
   "source": [
    "from skimage import io\n",
    "import numpy as np"
   ]
  },
  {
   "cell_type": "code",
   "execution_count": null,
   "metadata": {},
   "outputs": [],
   "source": [
    "TrainingSampleNum = 2000 # 学習サンプル総数\n",
    "TestSampleNum = 10000 # テストサンプル総数\n",
    "ClassNum = 10 # クラス数（今回は10）\n",
    "ImageSize = 28 # 画像サイズ（今回は縦横ともに28）\n",
    "TrainingDataFile = './Images/TrainingSamples/{0:1d}-{1:04d}.png'\n",
    "TestDataFile = './Images/TestSamples/{0:1d}-{1:04d}.png'\n",
    "OutFile = './Images/OutSamples/gray_{0:1d}-{1:04d}.png'"
   ]
  },
  {
   "cell_type": "code",
   "execution_count": null,
   "metadata": {},
   "outputs": [],
   "source": [
    "# ImageProcessing ルーチン\n",
    "def ImageProcessing ( src ):\n",
    "    '''\n",
    "    ここでは画素の操作方法がわかるようにあえて２重ループで書いている．\n",
    "    実際には以下の１行で同じ機能が実現できる．\n",
    "\n",
    "    dest = src // 2\n",
    "    '''\n",
    "    \n",
    "    dest = np.zeros (src.shape, dtype=np.uint8)\n",
    "    for y in range (0, src.shape[0] ):\n",
    "        for x in range ( 0, src.shape[1]):\n",
    "            dest[y,x] = src[y,x] // 2\n",
    "\n",
    "    return dest"
   ]
  },
  {
   "cell_type": "code",
   "execution_count": null,
   "metadata": {},
   "outputs": [],
   "source": [
    "# main ルーチン\n",
    "\n",
    "for label in range (0, ClassNum):\n",
    "    for sample in range (0, TrainingSampleNum // ClassNum ):\n",
    "        filename = TrainingDataFile.format(label,sample)\n",
    "        print (\"Loading the file: \" + filename )\n",
    "        img = io.imread ( filename )\n",
    "        \n",
    "        res = ImageProcessing ( img )\n",
    "            \n",
    "        filename = OutFile.format(label, sample)\n",
    "        print (\"Saving the file: \" + filename )\n",
    "        io.imsave ( filename, res )\n",
    "        "
   ]
  },
  {
   "cell_type": "code",
   "execution_count": null,
   "metadata": {},
   "outputs": [],
   "source": []
  }
 ],
 "metadata": {
  "kernelspec": {
   "display_name": "Python 3",
   "language": "python",
   "name": "python3"
  },
  "language_info": {
   "codemirror_mode": {
    "name": "ipython",
    "version": 3
   },
   "file_extension": ".py",
   "mimetype": "text/x-python",
   "name": "python",
   "nbconvert_exporter": "python",
   "pygments_lexer": "ipython3",
   "version": "3.6.4"
  }
 },
 "nbformat": 4,
 "nbformat_minor": 2
}
