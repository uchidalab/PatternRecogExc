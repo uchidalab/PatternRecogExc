{
 "cells": [
  {
   "cell_type": "markdown",
   "metadata": {},
   "source": [
    "## Step01_ImageIO\n",
    "\n",
    "画像の読み込み→表示→保存"
   ]
  },
  {
   "cell_type": "code",
   "execution_count": null,
   "metadata": {},
   "outputs": [],
   "source": [
    "from skimage import io"
   ]
  },
  {
   "cell_type": "code",
   "execution_count": null,
   "metadata": {},
   "outputs": [],
   "source": [
    "TrainingSampleNum = 2000 # 学習サンプル総数\n",
    "TestSampleNum = 10000 # テストサンプル総数\n",
    "ClassNum = 10 # クラス数（今回は10）\n",
    "ImageSize = 28 # 画像サイズ（今回は縦横ともに28）\n",
    "TrainingDataFile = './Images/TrainingSamples/{0:1d}-{1:04d}.png'\n",
    "TestDataFile = './Images/TestSamples/{0:1d}-{1:04d}.png'\n",
    "OutFile = './Images/OutSamples/save_{0:1d}-{1:04d}.png'"
   ]
  },
  {
   "cell_type": "code",
   "execution_count": null,
   "metadata": {},
   "outputs": [],
   "source": [
    "# main ルーチン\n",
    "\n",
    "for label in range (0, ClassNum):\n",
    "    for sample in range (0, TrainingSampleNum // ClassNum ):\n",
    "        filename = TrainingDataFile.format(label,sample)\n",
    "        print (\"Loading the file: \" + filename )\n",
    "        img = io.imread ( filename )\n",
    "\n",
    "        filename = OutFile.format(label, sample)\n",
    "        print (\"Saving the file: \" + filename )\n",
    "        io.imsave ( filename, img )\n",
    "        "
   ]
  }
 ],
 "metadata": {
  "kernelspec": {
   "display_name": "Python 3",
   "language": "python",
   "name": "python3"
  },
  "language_info": {
   "codemirror_mode": {
    "name": "ipython",
    "version": 3
   },
   "file_extension": ".py",
   "mimetype": "text/x-python",
   "name": "python",
   "nbconvert_exporter": "python",
   "pygments_lexer": "ipython3",
   "version": "3.6.4"
  }
 },
 "nbformat": 4,
 "nbformat_minor": 2
}
