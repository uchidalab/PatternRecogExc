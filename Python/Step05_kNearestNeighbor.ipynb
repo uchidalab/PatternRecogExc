{
 "cells": [
  {
   "cell_type": "markdown",
   "metadata": {},
   "source": [
    "## Step05_kNearestNeighbor\n",
    "\n",
    "k最近傍法で分類する\n",
    "混同行列と各クラスの認識率を表示する"
   ]
  },
  {
   "cell_type": "code",
   "execution_count": null,
   "metadata": {},
   "outputs": [],
   "source": [
    "from skimage import io\n",
    "import numpy as np"
   ]
  },
  {
   "cell_type": "code",
   "execution_count": null,
   "metadata": {},
   "outputs": [],
   "source": [
    "TrainingSampleNum = 2000 # 学習サンプル総数\n",
    "TestSampleNum = 10000 # テストサンプル総数\n",
    "ClassNum = 10 # クラス数（今回は10）\n",
    "ImageSize = 28 # 画像サイズ（今回は縦横ともに28）\n",
    "TrainingDataFile = './Images/TrainingSamples/{0:1d}-{1:04d}.png'\n",
    "TestDataFile = './Images/TestSamples/{0:1d}-{1:04d}.png'\n",
    "OutFile = './Images/OutSamples/gray_{0:1d}-{1:04d}.png'"
   ]
  },
  {
   "cell_type": "code",
   "execution_count": null,
   "metadata": {},
   "outputs": [],
   "source": [
    "# LoadTemplates\n",
    "def LoadTemplates () :\n",
    "    labels = np.zeros( TrainingSampleNum, dtype=np.uint8 )\n",
    "    templates = np.zeros( (TrainingSampleNum,ImageSize,ImageSize), dtype=np.uint8 )\n",
    "\n",
    "    i = 0\n",
    "    for label in range (0, ClassNum):\n",
    "        for sample in range (0, TrainingSampleNum // ClassNum ):\n",
    "            filename = TrainingDataFile.format(label,sample)\n",
    "            templates[i,:,:] = io.imread(filename)\n",
    "            labels[i]=label\n",
    "            i += 1\n",
    "\n",
    "    return templates, labels"
   ]
  },
  {
   "cell_type": "code",
   "execution_count": null,
   "metadata": {},
   "outputs": [],
   "source": [
    "# CalcDistance\n",
    "# 今回は L1 距離を算出\n",
    "def CalcDistance ( target, template ):\n",
    "    buf = np.fabs( target - template )    \n",
    "    return np.sum(buf)"
   ]
  },
  {
   "cell_type": "code",
   "execution_count": null,
   "metadata": {},
   "outputs": [],
   "source": [
    "# ReturnMatchLabel\n",
    "def ReturnMatchLabel ( target, templates, labels, K ):\n",
    "    min_dis = np.full(K, float(\"Inf\"))\n",
    "    k_labels = np.full(K, -1)\n",
    "    \n",
    "    for i in range (0, TrainingSampleNum ):\n",
    "        dis = CalcDistance ( target, templates[i,:,:] )\n",
    "        label = labels[i]\n",
    "        for k in range(0,K):\n",
    "            if min_dis[k] > dis :\n",
    "                min_dis[k], dis = dis, min_dis[k]\n",
    "                k_labels[k], label = label, k_labels[k]\n",
    "\n",
    "    class_count = np.zeros(ClassNum)\n",
    "    for k in range (0,K):\n",
    "        class_count [k_labels[k]]+=1\n",
    "        \n",
    "    match_label = 0;\n",
    "    max_count = 0;\n",
    "    for i in range (0,ClassNum):\n",
    "        if max_count < class_count[i]:\n",
    "            max_count = class_count[i]\n",
    "            match_label = i\n",
    "    \n",
    "    return match_label"
   ]
  },
  {
   "cell_type": "code",
   "execution_count": null,
   "metadata": {},
   "outputs": [],
   "source": [
    "# kNearestNeighbor\n",
    "def kNearestNeighbor ( templates, labels, k ):\n",
    "\n",
    "    results = np.zeros ( (ClassNum, ClassNum) )\n",
    "    each_class_num = TestSampleNum // ClassNum\n",
    "    \n",
    "    for label in range (0, ClassNum):\n",
    "        for sample in range (0, each_class_num ):\n",
    "            filename = TestDataFile.format(label,sample)\n",
    "            t_img = io.imread ( filename )\n",
    "            match_label = ReturnMatchLabel ( t_img, templates, labels, k )\n",
    "            results [label, match_label] += 1\n",
    "        print ( \"{0:1d}: {1:.4f}\".format(label, results[label,label]/each_class_num))\n",
    "\n",
    "    print(\"= Confusion matrix ===========\")\n",
    "    for t_label in range (0,ClassNum):\n",
    "\n",
    "        for m_label in range (0,ClassNum):\n",
    "            print (\"{:04g}, \".format(results[t_label,m_label]), end=\"\")\n",
    "        print(\"\")\n",
    "\n",
    "    print(\"= Total Recognition accuracy ===========\")\n",
    "    total_correct_num = 0\n",
    "    for t_label in range (0,ClassNum):\n",
    "        total_correct_num += results[t_label,t_label]\n",
    "    print (\"TOTAL: {0:.4f}\".format(total_correct_num / TestSampleNum))\n"
   ]
  },
  {
   "cell_type": "code",
   "execution_count": null,
   "metadata": {},
   "outputs": [],
   "source": [
    "# main ルーチン\n",
    "\n",
    "templates, labels = LoadTemplates ()\n",
    "k = 3\n",
    "kNearestNeighbor ( templates, labels, k )\n"
   ]
  },
  {
   "cell_type": "code",
   "execution_count": null,
   "metadata": {},
   "outputs": [],
   "source": []
  }
 ],
 "metadata": {
  "kernelspec": {
   "display_name": "Python 3",
   "language": "python",
   "name": "python3"
  },
  "language_info": {
   "codemirror_mode": {
    "name": "ipython",
    "version": 3
   },
   "file_extension": ".py",
   "mimetype": "text/x-python",
   "name": "python",
   "nbconvert_exporter": "python",
   "pygments_lexer": "ipython3",
   "version": "3.6.4"
  }
 },
 "nbformat": 4,
 "nbformat_minor": 2
}
